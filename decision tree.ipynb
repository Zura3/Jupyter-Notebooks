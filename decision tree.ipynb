{
 "cells": [
  {
   "cell_type": "code",
   "execution_count": 12,
   "metadata": {},
   "outputs": [],
   "source": [
    "import math"
   ]
  },
  {
   "cell_type": "code",
   "execution_count": 10,
   "metadata": {},
   "outputs": [
    {
     "name": "stdout",
     "output_type": "stream",
     "text": [
      "Ginni Index = 0.26546003016591246\n"
     ]
    }
   ],
   "source": [
    "a=1-(((4/17)**2)+((13/17)**2))\n",
    "b=1-(((1/13)**2)+((12/13)**2))\n",
    "c=(((17/30)*a)+((13/30)*b))\n",
    "print('Ginni Index =',c)"
   ]
  },
  {
   "cell_type": "code",
   "execution_count": 11,
   "metadata": {},
   "outputs": [
    {
     "name": "stdout",
     "output_type": "stream",
     "text": [
      "Information Gain =  0.7202921107069282\n"
     ]
    }
   ],
   "source": [
    "A=-((13/17)*math.log2(13/17))-((4/17)*math.log2(4/17))\n",
    "B=-((1/13)*math.log2(1/13))-((12/13)*math.log2(12/13))\n",
    "C=-((16/30)*math.log2(16/30))-((14/30)*math.log2(14/30))\n",
    "InformationGain = C-((17/30)*A-(13/30)*B)\n",
    "print('Information Gain = ',InformationGain)"
   ]
  }
 ],
 "metadata": {
  "kernelspec": {
   "display_name": "Python 3",
   "language": "python",
   "name": "python3"
  },
  "language_info": {
   "codemirror_mode": {
    "name": "ipython",
    "version": 3
   },
   "file_extension": ".py",
   "mimetype": "text/x-python",
   "name": "python",
   "nbconvert_exporter": "python",
   "pygments_lexer": "ipython3",
   "version": "3.7.6"
  }
 },
 "nbformat": 4,
 "nbformat_minor": 4
}
