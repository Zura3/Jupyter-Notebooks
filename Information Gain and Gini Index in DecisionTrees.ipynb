{
 "cells": [
  {
   "cell_type": "markdown",
   "metadata": {},
   "source": [
    "Suppose 30 instances(14 positives and 16 negatives) and attribute A divides the samples into sub-samples of 17 instances(4 negatives and 13 positives) and 13 instances(1 positives and 12 negatives)"
   ]
  },
  {
   "cell_type": "code",
   "execution_count": 4,
   "metadata": {},
   "outputs": [],
   "source": [
    "import math"
   ]
  },
  {
   "cell_type": "code",
   "execution_count": 5,
   "metadata": {},
   "outputs": [
    {
     "name": "stdout",
     "output_type": "stream",
     "text": [
      "Gini Index = 0.26546003016591246\n"
     ]
    }
   ],
   "source": [
    "a=1-(((4/17)**2)+((13/17)**2))\n",
    "b=1-(((1/13)**2)+((12/13)**2))\n",
    "c=(((17/30)*a)+((13/30)*b))\n",
    "print('Gini Index =',c)"
   ]
  },
  {
   "cell_type": "markdown",
   "metadata": {},
   "source": [
    " Gini index measures the degree or probability of a particular variable being wrongly classified when it is randomly chosen"
   ]
  },
  {
   "cell_type": "code",
   "execution_count": 6,
   "metadata": {},
   "outputs": [
    {
     "name": "stdout",
     "output_type": "stream",
     "text": [
      "Information Gain =  0.7202921107069282\n"
     ]
    }
   ],
   "source": [
    "A=-((13/17)*math.log2(13/17))-((4/17)*math.log2(4/17))\n",
    "B=-((1/13)*math.log2(1/13))-((12/13)*math.log2(12/13))\n",
    "C=-((16/30)*math.log2(16/30))-((14/30)*math.log2(14/30))\n",
    "InformationGain = C-((17/30)*A-(13/30)*B)\n",
    "print('Information Gain = ',InformationGain)"
   ]
  },
  {
   "cell_type": "markdown",
   "metadata": {},
   "source": [
    "Information gain calculates the reduction in entropy or surprise from transforming a dataset"
   ]
  }
 ],
 "metadata": {
  "kernelspec": {
   "display_name": "Python 3",
   "language": "python",
   "name": "python3"
  },
  "language_info": {
   "codemirror_mode": {
    "name": "ipython",
    "version": 3
   },
   "file_extension": ".py",
   "mimetype": "text/x-python",
   "name": "python",
   "nbconvert_exporter": "python",
   "pygments_lexer": "ipython3",
   "version": "3.7.6"
  }
 },
 "nbformat": 4,
 "nbformat_minor": 4
}
